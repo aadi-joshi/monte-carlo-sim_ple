{
  "nbformat": 4,
  "nbformat_minor": 0,
  "metadata": {
    "colab": {
      "provenance": []
    },
    "kernelspec": {
      "name": "python3",
      "display_name": "Python 3"
    },
    "language_info": {
      "name": "python"
    }
  },
  "cells": [
    {
      "cell_type": "markdown",
      "source": [
        "# Simple Monte Carlo simulation"
      ],
      "metadata": {
        "id": "ocrIrty81kHS"
      }
    },
    {
      "cell_type": "markdown",
      "source": [
        "saw it [here](https://youtu.be/7ESK5SaP-bc?si=HUOp7TQbOhlvoIaZ) first, great video<br>"
      ],
      "metadata": {
        "id": "prAEK0Ca0pb6"
      }
    },
    {
      "cell_type": "code",
      "source": [
        "import math\n",
        "import matplotlib as plt\n",
        "import random"
      ],
      "metadata": {
        "id": "LSTv52j7kYDq"
      },
      "execution_count": 54,
      "outputs": []
    },
    {
      "cell_type": "code",
      "source": [
        "random.seed(91460)\n",
        "# can replicate"
      ],
      "metadata": {
        "id": "DY_vnuxJkZ_P"
      },
      "execution_count": 55,
      "outputs": []
    },
    {
      "cell_type": "code",
      "source": [
        "# for i in range(10):\n",
        "#   print(random.uniform(-1,1))\n",
        "points=[]\n",
        "for i in range(10):\n",
        "  x=round(random.uniform(-1,1),5) # 5 decimal places\n",
        "  y= round(random.uniform(-1,1),5)\n",
        "  points.append((x,y))\n",
        "\n",
        "points[:5]"
      ],
      "metadata": {
        "colab": {
          "base_uri": "https://localhost:8080/"
        },
        "id": "HCUS-ECboEg_",
        "outputId": "44b9fd8b-3da9-45d9-ae74-6d0f5c329e15"
      },
      "execution_count": 56,
      "outputs": [
        {
          "output_type": "execute_result",
          "data": {
            "text/plain": [
              "[(-0.91634, -0.00187),\n",
              " (0.90567, 0.71084),\n",
              " (0.94742, -0.18063),\n",
              " (0.97791, 0.96167),\n",
              " (0.00645, -0.9691)]"
            ]
          },
          "metadata": {},
          "execution_count": 56
        }
      ]
    },
    {
      "cell_type": "markdown",
      "source": [
        "to be inside the inscribed unit circle<br>the point will have to satisfy the condition: **x^2+y^2<=1**"
      ],
      "metadata": {
        "id": "ZIT2vOLbrz2i"
      }
    },
    {
      "cell_type": "code",
      "source": [
        "inside=[]\n",
        "for(x,y) in points:\n",
        "  if(x**2+y**2<=1):\n",
        "    inside.append(True)\n",
        "  else :\n",
        "    inside.append(False)\n",
        "\n",
        "inside"
      ],
      "metadata": {
        "id": "ppDplxjEnyzw",
        "colab": {
          "base_uri": "https://localhost:8080/"
        },
        "outputId": "507fbbc9-3fea-4c98-b2b0-ff9ff474330d"
      },
      "execution_count": 57,
      "outputs": [
        {
          "output_type": "execute_result",
          "data": {
            "text/plain": [
              "[True, False, True, False, True, True, True, True, True, True]"
            ]
          },
          "metadata": {},
          "execution_count": 57
        }
      ]
    },
    {
      "cell_type": "markdown",
      "source": [
        "trying to estimate for very small sample"
      ],
      "metadata": {
        "id": "b3DG4b5GsYme"
      }
    },
    {
      "cell_type": "code",
      "source": [
        "count_inside = sum(inside)\n",
        "pi_est = 4 * count_inside / len(points)\n",
        "pi_est"
      ],
      "metadata": {
        "colab": {
          "base_uri": "https://localhost:8080/"
        },
        "id": "C-D2kDXGsLoM",
        "outputId": "cfb84a20-b35a-4dfd-ff26-7455bb57878b"
      },
      "execution_count": 58,
      "outputs": [
        {
          "output_type": "execute_result",
          "data": {
            "text/plain": [
              "3.2"
            ]
          },
          "metadata": {},
          "execution_count": 58
        }
      ]
    },
    {
      "cell_type": "code",
      "source": [
        "# function to try diff n vals\n",
        "def monte_carlo_pi(n):\n",
        "  count=0\n",
        "  for i in range(n):\n",
        "    x=round(random.uniform(-1,1),5) # 5 decimal places\n",
        "    y= round(random.uniform(-1,1),5)\n",
        "    if(x**2 + y**2<=1):\n",
        "      count+=1\n",
        "  return 4*count/n;"
      ],
      "metadata": {
        "id": "JzvgjvLYs3Ij"
      },
      "execution_count": 60,
      "outputs": []
    },
    {
      "cell_type": "markdown",
      "source": [
        "trying higher n values since it will converge better with higher n"
      ],
      "metadata": {
        "id": "6iFepdLYtW3D"
      }
    },
    {
      "cell_type": "code",
      "source": [
        "for n in [100, 1000,5000,20000, 50000]:\n",
        "  print(n, monte_carlo_pi(n))"
      ],
      "metadata": {
        "colab": {
          "base_uri": "https://localhost:8080/"
        },
        "id": "gPPOEWkLtChR",
        "outputId": "d1a52761-ee1e-400a-f75d-11d263380b29"
      },
      "execution_count": 61,
      "outputs": [
        {
          "output_type": "stream",
          "name": "stdout",
          "text": [
            "100 3.28\n",
            "1000 3.084\n",
            "5000 3.1688\n",
            "20000 3.1362\n",
            "50000 3.13968\n"
          ]
        }
      ]
    },
    {
      "cell_type": "code",
      "source": [
        "monte_carlo_pi(100000)"
      ],
      "metadata": {
        "colab": {
          "base_uri": "https://localhost:8080/"
        },
        "id": "6Ii6j8VJtjnU",
        "outputId": "686c62e9-5e88-4d66-ba0b-eb732fa252ab"
      },
      "execution_count": 62,
      "outputs": [
        {
          "output_type": "execute_result",
          "data": {
            "text/plain": [
              "3.1408"
            ]
          },
          "metadata": {},
          "execution_count": 62
        }
      ]
    },
    {
      "cell_type": "code",
      "source": [
        "monte_carlo_pi(5000000)"
      ],
      "metadata": {
        "colab": {
          "base_uri": "https://localhost:8080/"
        },
        "id": "bRkHgB-stn_A",
        "outputId": "9a5138ca-4018-448e-9417-d92c8ca53884"
      },
      "execution_count": 64,
      "outputs": [
        {
          "output_type": "execute_result",
          "data": {
            "text/plain": [
              "3.141604"
            ]
          },
          "metadata": {},
          "execution_count": 64
        }
      ]
    },
    {
      "cell_type": "markdown",
      "source": [
        "we can track convergence to see it step by step<br>\n",
        "also removing the rounding part"
      ],
      "metadata": {
        "id": "fU8711etuAOu"
      }
    },
    {
      "cell_type": "markdown",
      "source": [
        "this should be pretty close"
      ],
      "metadata": {
        "id": "IGLd559OuiP3"
      }
    },
    {
      "cell_type": "code",
      "source": [
        "n_trials=10000000\n",
        "estimates=[]\n",
        "xs=[]\n",
        "ys=[]\n",
        "inside= 0\n",
        "for i in range(1,n_trials+1):\n",
        "    x=random.uniform(-1,1)\n",
        "    y= random.uniform(-1,1)\n",
        "    xs.append(x)\n",
        "    ys.append(y)\n",
        "    if (x**2+y**2<=1):\n",
        "        inside+=1\n",
        "    pi_est=4*inside/i\n",
        "    estimates.append(pi_est)\n",
        "    if i%500000==0:   # print every 500k\n",
        "        print(f\"After {i} points: pi≈ {pi_est}\")"
      ],
      "metadata": {
        "colab": {
          "base_uri": "https://localhost:8080/"
        },
        "id": "dCxsnZaXtp6u",
        "outputId": "e93162fa-bfd4-4320-e7fe-57c65514a60c"
      },
      "execution_count": 88,
      "outputs": [
        {
          "output_type": "stream",
          "name": "stdout",
          "text": [
            "After 500000 points: pi≈ 3.142248\n",
            "After 1000000 points: pi≈ 3.142032\n",
            "After 1500000 points: pi≈ 3.141426666666667\n",
            "After 2000000 points: pi≈ 3.140936\n",
            "After 2500000 points: pi≈ 3.1410672\n",
            "After 3000000 points: pi≈ 3.1407693333333335\n",
            "After 3500000 points: pi≈ 3.1404834285714287\n",
            "After 4000000 points: pi≈ 3.140619\n",
            "After 4500000 points: pi≈ 3.1407964444444443\n",
            "After 5000000 points: pi≈ 3.1408128\n",
            "After 5500000 points: pi≈ 3.140807272727273\n",
            "After 6000000 points: pi≈ 3.1408466666666666\n",
            "After 6500000 points: pi≈ 3.140830769230769\n",
            "After 7000000 points: pi≈ 3.1407777142857145\n",
            "After 7500000 points: pi≈ 3.1410853333333333\n",
            "After 8000000 points: pi≈ 3.140771\n",
            "After 8500000 points: pi≈ 3.1409270588235296\n",
            "After 9000000 points: pi≈ 3.1410604444444443\n",
            "After 9500000 points: pi≈ 3.141005052631579\n",
            "After 10000000 points: pi≈ 3.1411444\n"
          ]
        }
      ]
    },
    {
      "cell_type": "code",
      "source": [
        "import matplotlib.patches as patches\n",
        "sample_size=500 # smaller number just to plot\n",
        "sample_indices=random.sample(range(len(xs)), sample_size)\n",
        "sample_xs=[xs[i] for i in sample_indices] # we created xs and ys above\n",
        "sample_ys=[ys[i] for i in sample_indices]\n",
        "\n",
        "# plotting\n",
        "fig,ax=plt.subplots(figsize=(6,6))\n",
        "\n",
        "# draw square+circle\n",
        "square=patches.Rectangle((-1, -1), 2,2,fill=False, edgecolor=\"black\", linewidth=2)\n",
        "circle=plt.Circle((0, 0), 1, fill=False,edgecolor=\"blue\", linewidth=2)\n",
        "ax.add_patch(square)\n",
        "ax.add_artist(circle)\n",
        "\n",
        "#scatter points\n",
        "ax.scatter(sample_xs,sample_ys,c='red',s=3)\n",
        "# aspect ratio,limits, and title\n",
        "ax.set_aspect(\"equal\")\n",
        "ax.set_xlim(-1.1, 1.1)\n",
        "ax.set_ylim(-1.1, 1.1)\n",
        "print(f\"Monte Carlo Pi (N={n_trials}) ≈ {pi_est:.3f}\")\n",
        "plt.show()"
      ],
      "metadata": {
        "colab": {
          "base_uri": "https://localhost:8080/",
          "height": 540
        },
        "id": "4PygeY90w0pj",
        "outputId": "cfa86a07-6d53-4068-c3ff-53d2ef797bda"
      },
      "execution_count": 90,
      "outputs": [
        {
          "output_type": "stream",
          "name": "stdout",
          "text": [
            "Monte Carlo Pi (N=10000000) ≈ 3.141\n"
          ]
        },
        {
          "output_type": "display_data",
          "data": {
            "text/plain": [
              "<Figure size 600x600 with 1 Axes>"
            ],
            "image/png": "[encoded data removed]"
          },
          "metadata": {}
        }
      ]
    },
    {
      "cell_type": "markdown",
      "source": [
        "actually it was converging pretty closely early on as well<br>lets try with a much smaller num"
      ],
      "metadata": {
        "id": "6epJ7StkyXsc"
      }
    },
    {
      "cell_type": "code",
      "source": [
        "n_trials=1000\n",
        "estimates=[]\n",
        "xs=[]\n",
        "ys=[]\n",
        "inside= 0\n",
        "for i in range(1,n_trials+1):\n",
        "    x=random.uniform(-1,1)\n",
        "    y= random.uniform(-1,1)\n",
        "    xs.append(x)\n",
        "    ys.append(y)\n",
        "    if (x**2+y**2<=1):\n",
        "        inside+=1\n",
        "    pi_est=4*inside/i\n",
        "    estimates.append(pi_est)\n",
        "    if i%100==0:   # print every 100\n",
        "        print(f\"After {i} points: pi≈ {pi_est}\")"
      ],
      "metadata": {
        "colab": {
          "base_uri": "https://localhost:8080/"
        },
        "id": "hMU-R7tHyWUI",
        "outputId": "731f99d2-025f-434f-b64b-b3197377c535"
      },
      "execution_count": 97,
      "outputs": [
        {
          "output_type": "stream",
          "name": "stdout",
          "text": [
            "After 100 points: pi≈ 3.16\n",
            "After 200 points: pi≈ 3.32\n",
            "After 300 points: pi≈ 3.2\n",
            "After 400 points: pi≈ 3.19\n",
            "After 500 points: pi≈ 3.184\n",
            "After 600 points: pi≈ 3.1733333333333333\n",
            "After 700 points: pi≈ 3.1485714285714286\n",
            "After 800 points: pi≈ 3.15\n",
            "After 900 points: pi≈ 3.16\n",
            "After 1000 points: pi≈ 3.14\n"
          ]
        }
      ]
    },
    {
      "cell_type": "code",
      "source": [
        "import matplotlib.patches as patches\n",
        "sample_size=50 # smaller number just to plot\n",
        "sample_indices=random.sample(range(len(xs)), sample_size)\n",
        "sample_xs=[xs[i] for i in sample_indices] # we created xs and ys above\n",
        "sample_ys=[ys[i] for i in sample_indices]\n",
        "\n",
        "# plotting\n",
        "fig,ax=plt.subplots(figsize=(6,6))\n",
        "\n",
        "# draw square+circle\n",
        "square=patches.Rectangle((-1, -1), 2,2,fill=False, edgecolor=\"black\", linewidth=2)\n",
        "circle=plt.Circle((0, 0), 1, fill=False,edgecolor=\"blue\", linewidth=2)\n",
        "ax.add_patch(square)\n",
        "ax.add_artist(circle)\n",
        "\n",
        "#scatter points\n",
        "ax.scatter(sample_xs,sample_ys,c='red',s=3)\n",
        "# aspect ratio,limits, and title\n",
        "ax.set_aspect(\"equal\")\n",
        "ax.set_xlim(-1.1, 1.1)\n",
        "ax.set_ylim(-1.1, 1.1)\n",
        "print(f\"Monte Carlo Pi (N={n_trials}) ≈ {pi_est:.3f}\")\n",
        "plt.show()"
      ],
      "metadata": {
        "colab": {
          "base_uri": "https://localhost:8080/",
          "height": 540
        },
        "id": "3Klzbji8yqWo",
        "outputId": "2adc26fa-bb69-4230-c1a4-fd661f054e7b"
      },
      "execution_count": 99,
      "outputs": [
        {
          "output_type": "stream",
          "name": "stdout",
          "text": [
            "Monte Carlo Pi (N=1000) ≈ 3.140\n"
          ]
        },
        {
          "output_type": "display_data",
          "data": {
            "text/plain": [
              "<Figure size 600x600 with 1 Axes>"
            ],
            "image/png": "[encoded data removed]"
          },
          "metadata": {}
        }
      ]
    },
    {
      "cell_type": "markdown",
      "source": [
        "nice"
      ],
      "metadata": {
        "id": "cFJIu8b1yJW4"
      }
    }
  ]
}